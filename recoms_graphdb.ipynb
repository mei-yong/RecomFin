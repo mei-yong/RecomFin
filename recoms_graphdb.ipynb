{
 "cells": [
  {
   "cell_type": "code",
   "execution_count": null,
   "metadata": {},
   "outputs": [],
   "source": [
    "!pip install py2neo\n",
    "!pip install python-igraph\n",
    "!pip install textblob"
   ]
  },
  {
   "cell_type": "code",
   "execution_count": 1,
   "metadata": {},
   "outputs": [],
   "source": [
    "#import pandas as pd\n",
    "from py2neo import Graph, Node, Relationship"
   ]
  },
  {
   "cell_type": "code",
   "execution_count": 2,
   "metadata": {},
   "outputs": [],
   "source": [
    "# Initialise the graph db\n",
    "uri = \"bolt://localhost:7687\"\n",
    "user = \"neo4j\"\n",
    "password = \"password\"\n",
    "graph = Graph(uri=uri, user=user, password=password)"
   ]
  },
  {
   "cell_type": "code",
   "execution_count": 5,
   "metadata": {},
   "outputs": [],
   "source": [
    "# Testing graph connection\n",
    "query = \"MATCH (n) RETURN COUNT(n) AS numberOfNodes\"\n",
    "run_query(query)"
   ]
  },
  {
   "cell_type": "code",
   "execution_count": 14,
   "metadata": {},
   "outputs": [
    {
     "data": {
      "text/plain": [
       "<py2neo.database.Cursor at 0x24f9b503848>"
      ]
     },
     "execution_count": 14,
     "metadata": {},
     "output_type": "execute_result"
    }
   ],
   "source": [
    "# Create constraints on nodes\n",
    "graph.run(\"CREATE CONSTRAINT ON (c:Customer) ASSERT c.id IS UNIQUE\")\n",
    "graph.run(\"CREATE CONSTRAINT ON (p:Product) ASSERT p.id IS UNIQUE\")"
   ]
  },
  {
   "cell_type": "code",
   "execution_count": 19,
   "metadata": {},
   "outputs": [
    {
     "data": {
      "text/plain": [
       "<py2neo.database.Cursor at 0x24f9e0b0f08>"
      ]
     },
     "execution_count": 19,
     "metadata": {},
     "output_type": "execute_result"
    }
   ],
   "source": [
    "# Create new customer nodes taking into account constraints\n",
    "query = '''\n",
    "USING PERIODIC COMMIT 500\n",
    "LOAD CSV WITH HEADERS\n",
    "FROM \"file:///santander_cust_products_clean_sample.csv\" AS row\n",
    "MERGE (c:Customer {id: row.cust_id})\n",
    "ON CREATE SET c.first_contract_date = row.first_contract_date, c.household_gross_income = row.household_gross_income\n",
    "'''\n",
    "graph.run(query)"
   ]
  },
  {
   "cell_type": "code",
   "execution_count": 21,
   "metadata": {},
   "outputs": [],
   "source": [
    "# Create new product nodes taking into account constraints\n",
    "query = \"\"\"\n",
    "USING PERIODIC COMMIT 500\n",
    "LOAD CSV WITH HEADERS\n",
    "FROM \"file:///santander_products.csv\" AS row\n",
    "MERGE (p:Product {id: row.prod_id})\n",
    "ON CREATE SET p.product_type = row.product_type\n",
    "\"\"\"\n",
    "run_query(query)"
   ]
  },
  {
   "cell_type": "code",
   "execution_count": null,
   "metadata": {},
   "outputs": [],
   "source": [
    "# Create the edges between customers and the products they have - option 1\n",
    "query = \"\"\"\n",
    "USING PERIODIC COMMIT 10000\n",
    "LOAD CSV WITH HEADERS\n",
    "FROM \"url\" AS row\n",
    "MATCH (c:Customer {id: row.cust_id})\n",
    "MATCH (p:Product {product_type: row.product_type})\n",
    "MERGE (c)-[:HAS_PRODUCT]->(p)\n",
    "\"\"\"\n",
    "run_query(query)"
   ]
  },
  {
   "cell_type": "code",
   "execution_count": null,
   "metadata": {},
   "outputs": [],
   "source": [
    "# Create the edges between customers and the products they have\n",
    "query = \"\"\"\n",
    "USING PERIODIC COMMIT 10000\n",
    "LOAD CSV WITH HEADERS FROM \"url\" AS row\n",
    "\n",
    "WITH split(row.products, ',') AS products, row.cust_id AS cust_id\n",
    "UNWIND products AS product_type\n",
    "\n",
    "WITH DISTINCT cust_id, product_type\n",
    "MATCH (c:Customer {id: cust_id})\n",
    "MATCH (p:Product {product_type: product_type})\n",
    "MERGE (p)-[:HAS_PRODUCT]->(product_type)\n",
    "\"\"\"\n",
    "\n",
    "run_query(query)"
   ]
  },
  {
   "cell_type": "code",
   "execution_count": null,
   "metadata": {},
   "outputs": [],
   "source": []
  },
  {
   "cell_type": "code",
   "execution_count": null,
   "metadata": {},
   "outputs": [],
   "source": []
  },
  {
   "cell_type": "code",
   "execution_count": null,
   "metadata": {},
   "outputs": [],
   "source": []
  },
  {
   "cell_type": "code",
   "execution_count": null,
   "metadata": {},
   "outputs": [],
   "source": []
  },
  {
   "cell_type": "code",
   "execution_count": null,
   "metadata": {},
   "outputs": [],
   "source": []
  }
 ],
 "metadata": {
  "kernelspec": {
   "display_name": "Python 3",
   "language": "python",
   "name": "python3"
  },
  "language_info": {
   "codemirror_mode": {
    "name": "ipython",
    "version": 3
   },
   "file_extension": ".py",
   "mimetype": "text/x-python",
   "name": "python",
   "nbconvert_exporter": "python",
   "pygments_lexer": "ipython3",
   "version": "3.7.4"
  }
 },
 "nbformat": 4,
 "nbformat_minor": 2
}
