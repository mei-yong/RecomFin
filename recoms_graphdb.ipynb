{
 "cells": [
  {
   "cell_type": "markdown",
   "metadata": {},
   "source": [
    "### Recommendation graph model based on wrangled Santander bank customer & financial products data\n",
    "Author: Mei Yong <br>\n",
    "https://github.com/mei-yong/bank_product_recommendations"
   ]
  },
  {
   "cell_type": "markdown",
   "metadata": {},
   "source": [
    "# Inital Setup"
   ]
  },
  {
   "cell_type": "markdown",
   "metadata": {},
   "source": [
    "#### Install & import necessary Python packages"
   ]
  },
  {
   "cell_type": "code",
   "execution_count": 1,
   "metadata": {},
   "outputs": [],
   "source": [
    "#!pip install py2neo\n",
    "#!pip install python-igraph\n",
    "#!pip install textblob"
   ]
  },
  {
   "cell_type": "code",
   "execution_count": 2,
   "metadata": {},
   "outputs": [],
   "source": [
    "from py2neo import Graph #, Node, Relationship"
   ]
  },
  {
   "cell_type": "markdown",
   "metadata": {},
   "source": [
    "#### Initialise graph db and test connection"
   ]
  },
  {
   "cell_type": "code",
   "execution_count": 3,
   "metadata": {},
   "outputs": [],
   "source": [
    "# Initialise the graph db\n",
    "uri = \"bolt://localhost:7687\"\n",
    "user = \"neo4j\"\n",
    "password = \"password\"\n",
    "graph = Graph(uri=uri, user=user, password=password)"
   ]
  },
  {
   "cell_type": "code",
   "execution_count": 4,
   "metadata": {},
   "outputs": [
    {
     "data": {
      "text/plain": [
       "0"
      ]
     },
     "execution_count": 4,
     "metadata": {},
     "output_type": "execute_result"
    }
   ],
   "source": [
    "# Testing graph connection\n",
    "query = \"MATCH (n) RETURN COUNT(n) AS numberOfNodes\"\n",
    "graph.run(query).evaluate()"
   ]
  },
  {
   "cell_type": "markdown",
   "metadata": {},
   "source": [
    "# Create the model in Neo4j\n",
    "Note: CSV files need to be in the import folder if importing from a local location <br>\n",
    "https://neo4j.com/developer/guide-import-csv/"
   ]
  },
  {
   "cell_type": "markdown",
   "metadata": {},
   "source": [
    "#### Nodes"
   ]
  },
  {
   "cell_type": "code",
   "execution_count": 5,
   "metadata": {},
   "outputs": [],
   "source": [
    "# Timing code execution\n",
    "import time\n",
    "import datetime\n",
    "start_time = time.time()"
   ]
  },
  {
   "cell_type": "code",
   "execution_count": 6,
   "metadata": {},
   "outputs": [
    {
     "data": {
      "text/plain": [
       "<py2neo.database.Cursor at 0x13052ef6948>"
      ]
     },
     "execution_count": 6,
     "metadata": {},
     "output_type": "execute_result"
    }
   ],
   "source": [
    "# Create constraints on nodes\n",
    "graph.run(\"CREATE CONSTRAINT ON (c:Customer) ASSERT c.id IS UNIQUE\")\n",
    "graph.run(\"CREATE CONSTRAINT ON (p:Product) ASSERT p.id IS UNIQUE\")"
   ]
  },
  {
   "cell_type": "code",
   "execution_count": 7,
   "metadata": {},
   "outputs": [],
   "source": [
    "# # Create new customer nodes taking into account constraints\n",
    "# query = '''\n",
    "# USING PERIODIC COMMIT 500\n",
    "# LOAD CSV WITH HEADERS\n",
    "# FROM \"file:///santander_data_50k.csv\" AS row\n",
    "# MERGE (c:Customer {id: row.cust_id})\n",
    "# ON CREATE SET c.first_contract_date = row.first_contract_date, c.household_gross_income = row.household_gross_income\n",
    "# '''\n",
    "# graph.run(query)"
   ]
  },
  {
   "cell_type": "code",
   "execution_count": 8,
   "metadata": {},
   "outputs": [
    {
     "data": {
      "text/plain": [
       "<py2neo.database.Cursor at 0x13052efbb48>"
      ]
     },
     "execution_count": 8,
     "metadata": {},
     "output_type": "execute_result"
    }
   ],
   "source": [
    "# Create new customer nodes taking into account constraints\n",
    "query = '''\n",
    "USING PERIODIC COMMIT 500\n",
    "LOAD CSV WITH HEADERS\n",
    "FROM \"file:///santander_data_100k.csv\" AS row\n",
    "MERGE (c:Customer {id: row.cust_id})\n",
    "'''\n",
    "graph.run(query)"
   ]
  },
  {
   "cell_type": "code",
   "execution_count": 9,
   "metadata": {},
   "outputs": [
    {
     "data": {
      "text/plain": [
       "<py2neo.database.Cursor at 0x13052eafe88>"
      ]
     },
     "execution_count": 9,
     "metadata": {},
     "output_type": "execute_result"
    }
   ],
   "source": [
    "# Create new product nodes taking into account constraints\n",
    "query = \"\"\"\n",
    "USING PERIODIC COMMIT 500\n",
    "LOAD CSV WITH HEADERS\n",
    "FROM \"file:///santander_products.csv\" AS row\n",
    "MERGE (p:Product {id: row.prod_id})\n",
    "ON CREATE SET p.product_type = row.product_type\n",
    "\"\"\"\n",
    "graph.run(query)"
   ]
  },
  {
   "cell_type": "markdown",
   "metadata": {},
   "source": [
    "#### Relationships"
   ]
  },
  {
   "cell_type": "code",
   "execution_count": 10,
   "metadata": {},
   "outputs": [
    {
     "data": {
      "text/plain": [
       "<py2neo.database.Cursor at 0x13052f00ec8>"
      ]
     },
     "execution_count": 10,
     "metadata": {},
     "output_type": "execute_result"
    }
   ],
   "source": [
    "# Create the edges between customers and the products they have\n",
    "query = \"\"\"\n",
    "USING PERIODIC COMMIT 500\n",
    "LOAD CSV WITH HEADERS FROM \"file:///cust_prod_rels_100k.csv\" AS row\n",
    "\n",
    "WITH split(row.products, ';') AS products, row.cust_id AS cust_id\n",
    "UNWIND products AS product_type\n",
    "\n",
    "WITH DISTINCT cust_id, product_type\n",
    "MATCH (c:Customer {id: cust_id})\n",
    "MATCH (p:Product {product_type: product_type})\n",
    "MERGE (c)-[:HAS_PRODUCT]->(p)\n",
    "\"\"\"\n",
    "graph.run(query)"
   ]
  },
  {
   "cell_type": "code",
   "execution_count": 11,
   "metadata": {},
   "outputs": [
    {
     "name": "stdout",
     "output_type": "stream",
     "text": [
      "Code execution time: 0:00:12.205829\n"
     ]
    }
   ],
   "source": [
    "# Timing code execution\n",
    "execution_time = time.time() - start_time\n",
    "print(f\"Code execution time: {str(datetime.timedelta(seconds=execution_time))}\")"
   ]
  },
  {
   "cell_type": "markdown",
   "metadata": {},
   "source": [
    "# Query the db"
   ]
  },
  {
   "cell_type": "code",
   "execution_count": 20,
   "metadata": {},
   "outputs": [
    {
     "name": "stdout",
     "output_type": "stream",
     "text": [
      "<Record c=(_0:Customer {id: '1380679'})>\n",
      "<Record c=(_1:Customer {id: '914904'})>\n",
      "<Record c=(_2:Customer {id: '890654'})>\n",
      "<Record c=(_3:Customer {id: '262721'})>\n",
      "<Record c=(_4:Customer {id: '1301032'})>\n"
     ]
    }
   ],
   "source": [
    "# Find a few customer nodes\n",
    "query = \"MATCH(c:Customer) RETURN c LIMIT 5\"\n",
    "result = graph.run(query)\n",
    "\n",
    "for row in result:\n",
    "    print(row)"
   ]
  },
  {
   "cell_type": "code",
   "execution_count": 21,
   "metadata": {},
   "outputs": [
    {
     "name": "stdout",
     "output_type": "stream",
     "text": [
      "<Record p=(_7689:Product {id: '1', product_type: 'savings_account'})>\n",
      "<Record p=(_7690:Product {id: '2', product_type: 'guarantees'})>\n",
      "<Record p=(_7691:Product {id: '3', product_type: 'current_account'})>\n",
      "<Record p=(_7692:Product {id: '4', product_type: 'derivada_account'})>\n",
      "<Record p=(_7693:Product {id: '5', product_type: 'payroll_account'})>\n"
     ]
    }
   ],
   "source": [
    "# Find a few product nodes\n",
    "query = \"MATCH(p:Product) RETURN p LIMIT 5\"\n",
    "result = graph.run(query)\n",
    "\n",
    "for row in result:\n",
    "    print(row)"
   ]
  },
  {
   "cell_type": "code",
   "execution_count": 27,
   "metadata": {},
   "outputs": [
    {
     "name": "stdout",
     "output_type": "stream",
     "text": [
      "<Record c.id='72364' p.product_type='savings_account'>\n",
      "<Record c.id='270730' p.product_type='savings_account'>\n",
      "<Record c.id='27354' p.product_type='savings_account'>\n",
      "<Record c.id='296457' p.product_type='savings_account'>\n",
      "<Record c.id='473916' p.product_type='savings_account'>\n"
     ]
    }
   ],
   "source": [
    "# Find a few relationships\n",
    "query = \"\"\"\n",
    "MATCH (c:Customer)-->(p:Product) \n",
    "RETURN  c.id, p.product_type\n",
    "LIMIT 5\n",
    "\"\"\"\n",
    "\n",
    "result = graph.run(query)\n",
    "\n",
    "for row in result:\n",
    "    print(row)"
   ]
  },
  {
   "cell_type": "code",
   "execution_count": null,
   "metadata": {},
   "outputs": [],
   "source": [
    "# # MY: don't run this, need to add properties to the customer nodes earlier on first\n",
    "\n",
    "# # Find some customers who have products in common\n",
    "# query = \"\"\"\n",
    "# MATCH (c:Customer)-->(p:Product)<--(otherCust)\n",
    "# WHERE c.x CONTAINS \"x\"\n",
    "# RETURN otherCust.id, COUNT(p) AS productsInCommon, COLLECT(p.product_type) AS productTypes\n",
    "# ORDER BY productsInCommon DESC, otherCust.id\n",
    "# LIMIT 10\n",
    "# \"\"\"\n",
    "# result = graph.run(query)\n",
    "\n",
    "# for row in result:\n",
    "#     print(row)"
   ]
  },
  {
   "cell_type": "code",
   "execution_count": null,
   "metadata": {},
   "outputs": [],
   "source": []
  },
  {
   "cell_type": "code",
   "execution_count": null,
   "metadata": {},
   "outputs": [],
   "source": [
    "from igraph import Graph as IGraph"
   ]
  },
  {
   "cell_type": "code",
   "execution_count": null,
   "metadata": {},
   "outputs": [],
   "source": []
  },
  {
   "cell_type": "code",
   "execution_count": null,
   "metadata": {},
   "outputs": [],
   "source": []
  },
  {
   "cell_type": "code",
   "execution_count": null,
   "metadata": {},
   "outputs": [],
   "source": []
  },
  {
   "cell_type": "code",
   "execution_count": null,
   "metadata": {},
   "outputs": [],
   "source": []
  },
  {
   "cell_type": "code",
   "execution_count": null,
   "metadata": {},
   "outputs": [],
   "source": []
  },
  {
   "cell_type": "code",
   "execution_count": null,
   "metadata": {},
   "outputs": [],
   "source": []
  },
  {
   "cell_type": "code",
   "execution_count": null,
   "metadata": {},
   "outputs": [],
   "source": []
  }
 ],
 "metadata": {
  "kernelspec": {
   "display_name": "Python 3",
   "language": "python",
   "name": "python3"
  },
  "language_info": {
   "codemirror_mode": {
    "name": "ipython",
    "version": 3
   },
   "file_extension": ".py",
   "mimetype": "text/x-python",
   "name": "python",
   "nbconvert_exporter": "python",
   "pygments_lexer": "ipython3",
   "version": "3.7.4"
  }
 },
 "nbformat": 4,
 "nbformat_minor": 2
}
